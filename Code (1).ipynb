{
  "cells": [
    {
      "cell_type": "code",
      "execution_count": 2,
      "id": "1821a526",
      "metadata": {
        "id": "1821a526"
      },
      "outputs": [],
      "source": [
        "import numpy as np\n",
        "import pandas as pd\n",
        "import matplotlib.pyplot as plt\n",
        "from sklearn.linear_model import LinearRegression\n",
        "from sklearn.impute import SimpleImputer"
      ]
    },
    {
      "cell_type": "markdown",
      "id": "32c012d8",
      "metadata": {
        "id": "32c012d8"
      },
      "source": [
        "Defining train and test"
      ]
    },
    {
      "cell_type": "code",
      "execution_count": 3,
      "id": "8f8ede4b",
      "metadata": {
        "id": "8f8ede4b"
      },
      "outputs": [],
      "source": [
        "url1 = 'https://raw.githubusercontent.com/dhruviamaliya/Netflix/main/train.csv'\n",
        "url2 = 'https://raw.githubusercontent.com/dhruviamaliya/Netflix/main/test.csv'\n",
        "train = pd.read_csv(url1)\n",
        "test = pd.read_csv(url2)\n",
        "\n"
      ]
    },
    {
      "cell_type": "code",
      "execution_count": 4,
      "id": "92c0fc18",
      "metadata": {
        "colab": {
          "base_uri": "https://localhost:8080/"
        },
        "id": "92c0fc18",
        "outputId": "09cd4950-824c-4dd1-8bfe-cb7327e3610e"
      },
      "outputs": [
        {
          "output_type": "stream",
          "name": "stdout",
          "text": [
            "<class 'pandas.core.frame.DataFrame'>\n",
            "RangeIndex: 700 entries, 0 to 699\n",
            "Data columns (total 2 columns):\n",
            " #   Column  Non-Null Count  Dtype  \n",
            "---  ------  --------------  -----  \n",
            " 0   x       700 non-null    float64\n",
            " 1   y       699 non-null    float64\n",
            "dtypes: float64(2)\n",
            "memory usage: 11.1 KB\n"
          ]
        }
      ],
      "source": [
        "train.info()"
      ]
    },
    {
      "cell_type": "code",
      "execution_count": 5,
      "id": "3c4e0261",
      "metadata": {
        "colab": {
          "base_uri": "https://localhost:8080/"
        },
        "id": "3c4e0261",
        "outputId": "aef1c3e5-4c09-4367-837a-4119c955aff0"
      },
      "outputs": [
        {
          "output_type": "stream",
          "name": "stdout",
          "text": [
            "<class 'pandas.core.frame.DataFrame'>\n",
            "RangeIndex: 300 entries, 0 to 299\n",
            "Data columns (total 2 columns):\n",
            " #   Column  Non-Null Count  Dtype  \n",
            "---  ------  --------------  -----  \n",
            " 0   x       300 non-null    int64  \n",
            " 1   y       300 non-null    float64\n",
            "dtypes: float64(1), int64(1)\n",
            "memory usage: 4.8 KB\n"
          ]
        }
      ],
      "source": [
        "test.info()"
      ]
    },
    {
      "cell_type": "markdown",
      "id": "ea0b47f2",
      "metadata": {
        "id": "ea0b47f2"
      },
      "source": [
        "Removing null values"
      ]
    },
    {
      "cell_type": "code",
      "execution_count": 6,
      "id": "3d3804cd",
      "metadata": {
        "id": "3d3804cd"
      },
      "outputs": [],
      "source": [
        "imputer = SimpleImputer(missing_values=np.nan,strategy=\"mean\")\n",
        "imputer.fit(train)\n",
        "train = pd.DataFrame(imputer.transform(train),columns=('x','y'))"
      ]
    },
    {
      "cell_type": "code",
      "execution_count": 7,
      "id": "8fdf135f",
      "metadata": {
        "id": "8fdf135f"
      },
      "outputs": [],
      "source": [
        "X_train = train.iloc[:,0:1].values\n",
        "y_train = train.iloc[:,-1].values\n",
        "X_test = test.iloc[:,0:1].values\n",
        "y_test = test.iloc[:,-1].values"
      ]
    },
    {
      "cell_type": "markdown",
      "id": "8e679099",
      "metadata": {
        "id": "8e679099"
      },
      "source": [
        "Generate regressor and fit the data"
      ]
    },
    {
      "cell_type": "code",
      "source": [
        "regressor = LinearRegression()\n",
        "regressor.fit(X_test,y_test)"
      ],
      "metadata": {
        "colab": {
          "base_uri": "https://localhost:8080/"
        },
        "id": "0yU40485eqrj",
        "outputId": "f044747a-6522-454e-b174-a9a27745f768"
      },
      "id": "0yU40485eqrj",
      "execution_count": 17,
      "outputs": [
        {
          "output_type": "execute_result",
          "data": {
            "text/plain": [
              "LinearRegression()"
            ]
          },
          "metadata": {},
          "execution_count": 17
        }
      ]
    },
    {
      "cell_type": "code",
      "execution_count": 8,
      "id": "4c47e087",
      "metadata": {
        "colab": {
          "base_uri": "https://localhost:8080/"
        },
        "id": "4c47e087",
        "outputId": "aaace1dd-5ea7-458c-ee4c-ac37a19d3c33"
      },
      "outputs": [
        {
          "output_type": "execute_result",
          "data": {
            "text/plain": [
              "LinearRegression()"
            ]
          },
          "metadata": {},
          "execution_count": 8
        }
      ],
      "source": [
        "regressor = LinearRegression()\n",
        "regressor.fit(X_train,y_train)"
      ]
    },
    {
      "cell_type": "markdown",
      "id": "6a41d2f8",
      "metadata": {
        "id": "6a41d2f8"
      },
      "source": [
        "Plotting the training data"
      ]
    },
    {
      "cell_type": "code",
      "execution_count": 16,
      "id": "fb279dbb",
      "metadata": {
        "colab": {
          "base_uri": "https://localhost:8080/",
          "height": 296
        },
        "id": "fb279dbb",
        "outputId": "8d570fc5-7b90-4899-80f9-93ef184bc4e2"
      },
      "outputs": [
        {
          "output_type": "display_data",
          "data": {
            "text/plain": [
              "<Figure size 432x288 with 1 Axes>"
            ],
            "image/png": "[encoded data removed]"
          },
          "metadata": {
            "needs_background": "light"
          }
        }
      ],
      "source": [
        "fig, ax = plt.subplots()\n",
        "ax.plot(X_train, y_train)\n",
        "plt.xlabel(\"X_train\")\n",
        "plt.ylabel(\"Y_train\")\n",
        "plt.title(\"Training data\")\n",
        "plt.show()\n",
        "     \n"
      ]
    },
    {
      "cell_type": "markdown",
      "id": "9848e884",
      "metadata": {
        "id": "9848e884"
      },
      "source": [
        "Plotting the testing data"
      ]
    },
    {
      "cell_type": "code",
      "execution_count": 18,
      "id": "51946830",
      "metadata": {
        "colab": {
          "base_uri": "https://localhost:8080/",
          "height": 296
        },
        "id": "51946830",
        "outputId": "c60af458-91ac-4162-b1d6-6825783cd838"
      },
      "outputs": [
        {
          "output_type": "display_data",
          "data": {
            "text/plain": [
              "<Figure size 432x288 with 1 Axes>"
            ],
            "image/png": "[encoded data removed]"
          },
          "metadata": {
            "needs_background": "light"
          }
        }
      ],
      "source": [
        "fig, ax = plt.subplots()\n",
        "ax.plot(X_test, y_test)\n",
        "plt.xlabel(\"X_test\")\n",
        "plt.ylabel(\"Y_test\")\n",
        "plt.title(\"Testing data\")\n",
        "plt.show()\n",
        "     "
      ]
    },
    {
      "cell_type": "markdown",
      "id": "44845a74",
      "metadata": {
        "id": "44845a74"
      },
      "source": [
        "Doing this, you will get some unexpected graphics!\n",
        "Because there is a value too high and must be deleted"
      ]
    },
    {
      "cell_type": "code",
      "execution_count": 25,
      "id": "823ec3d3",
      "metadata": {
        "colab": {
          "base_uri": "https://localhost:8080/"
        },
        "id": "823ec3d3",
        "outputId": "63a2ad03-1ae3-44c6-a322-aae6ec0d0934"
      },
      "outputs": [
        {
          "output_type": "stream",
          "name": "stdout",
          "text": [
            "Index of the maximum value is : 213\n"
          ]
        }
      ],
      "source": [
        "# Hint: Run a loop to find the index of max value\n",
        "\n",
        "max = X_train[0]\n",
        "for i in range(1,len(X_train)):\n",
        "    if X_train[i] > max:\n",
        "        max = X_train[i]\n",
        "        index = i\n",
        "print(f'Index of the maximum value is : {index}')"
      ]
    },
    {
      "cell_type": "code",
      "source": [
        "max = X_test[0]\n",
        "for i in range(1,len(X_test)):\n",
        "    if X_test[i] > max:\n",
        "        max = X_test[i]\n",
        "        index_test = i\n",
        "print(f'Index of the maximum value is : {index_test}')"
      ],
      "metadata": {
        "colab": {
          "base_uri": "https://localhost:8080/"
        },
        "id": "jo4rXmssi9hl",
        "outputId": "da036330-b4eb-4255-e507-ff5be481d348"
      },
      "id": "jo4rXmssi9hl",
      "execution_count": 30,
      "outputs": [
        {
          "output_type": "stream",
          "name": "stdout",
          "text": [
            "Index of the maximum value is : 87\n"
          ]
        }
      ]
    },
    {
      "cell_type": "markdown",
      "id": "cdf72719",
      "metadata": {
        "id": "cdf72719"
      },
      "source": [
        "Now we should delete the index of max value to make data more fit"
      ]
    },
    {
      "cell_type": "code",
      "execution_count": 27,
      "id": "af2a0d0c",
      "metadata": {
        "colab": {
          "base_uri": "https://localhost:8080/"
        },
        "id": "af2a0d0c",
        "outputId": "c11f617c-e3c2-411c-b546-d60ca7c57cca"
      },
      "outputs": [
        {
          "output_type": "execute_result",
          "data": {
            "text/plain": [
              "LinearRegression()"
            ]
          },
          "metadata": {},
          "execution_count": 27
        }
      ],
      "source": [
        "train.drop(index,axis=0,inplace=True) # fill the index\n",
        "X_train = train.iloc[:,0:1].values\n",
        "y_train = train.iloc[:,-1].values\n",
        "regressor = LinearRegression()\n",
        "regressor.fit(X_train,y_train)"
      ]
    },
    {
      "cell_type": "code",
      "source": [
        "test.drop(index_test,axis=0,inplace=True) # fill the index\n",
        "X_test = test.iloc[:,0:1].values\n",
        "y_test = test.iloc[:,-1].values\n",
        "regressor = LinearRegression()\n",
        "regressor.fit(X_test,y_test)"
      ],
      "metadata": {
        "colab": {
          "base_uri": "https://localhost:8080/"
        },
        "id": "bTHRf0FkjSR5",
        "outputId": "95a8cc08-3cbd-4e40-d87e-06b9ae0fd8af"
      },
      "id": "bTHRf0FkjSR5",
      "execution_count": 31,
      "outputs": [
        {
          "output_type": "execute_result",
          "data": {
            "text/plain": [
              "LinearRegression()"
            ]
          },
          "metadata": {},
          "execution_count": 31
        }
      ]
    },
    {
      "cell_type": "markdown",
      "id": "c4861b98",
      "metadata": {
        "id": "c4861b98"
      },
      "source": [
        "Again,Plotting the training data"
      ]
    },
    {
      "cell_type": "code",
      "execution_count": 28,
      "id": "ab7af5ea",
      "metadata": {
        "colab": {
          "base_uri": "https://localhost:8080/",
          "height": 296
        },
        "id": "ab7af5ea",
        "outputId": "d076ad54-1101-4dcb-90ad-43e675d776af"
      },
      "outputs": [
        {
          "output_type": "display_data",
          "data": {
            "text/plain": [
              "<Figure size 432x288 with 1 Axes>"
            ],
            "image/png": "[encoded data removed]"
          },
          "metadata": {
            "needs_background": "light"
          }
        }
      ],
      "source": [
        "fig, ax = plt.subplots()\n",
        "ax.plot(X_train, y_train)\n",
        "plt.xlabel(\"X_train\")\n",
        "plt.ylabel(\"Y_train\")\n",
        "plt.title(\"Training data\")\n",
        "plt.show()"
      ]
    },
    {
      "cell_type": "markdown",
      "id": "d6d9c891",
      "metadata": {
        "id": "d6d9c891"
      },
      "source": [
        "Again,Plotting the testing data"
      ]
    },
    {
      "cell_type": "code",
      "execution_count": null,
      "id": "379909cf",
      "metadata": {
        "id": "379909cf"
      },
      "outputs": [],
      "source": []
    },
    {
      "cell_type": "code",
      "execution_count": 32,
      "metadata": {
        "colab": {
          "base_uri": "https://localhost:8080/",
          "height": 296
        },
        "outputId": "a00e0660-9afd-4661-8429-fc4c4b86f480",
        "id": "Ut2WmBEwjpxh"
      },
      "outputs": [
        {
          "output_type": "display_data",
          "data": {
            "text/plain": [
              "<Figure size 432x288 with 1 Axes>"
            ],
            "image/png": "[encoded data removed]"
          },
          "metadata": {
            "needs_background": "light"
          }
        }
      ],
      "source": [
        "fig, ax = plt.subplots()\n",
        "ax.plot(X_test, y_test)\n",
        "plt.xlabel(\"X_test\")\n",
        "plt.ylabel(\"Y_test\")\n",
        "plt.title(\"Testing data\")\n",
        "plt.show()\n",
        "     "
      ],
      "id": "Ut2WmBEwjpxh"
    }
  ],
  "metadata": {
    "kernelspec": {
      "display_name": "Python 3 (ipykernel)",
      "language": "python",
      "name": "python3"
    },
    "language_info": {
      "codemirror_mode": {
        "name": "ipython",
        "version": 3
      },
      "file_extension": ".py",
      "mimetype": "text/x-python",
      "name": "python",
      "nbconvert_exporter": "python",
      "pygments_lexer": "ipython3",
      "version": "3.9.13"
    },
    "colab": {
      "provenance": []
    }
  },
  "nbformat": 4,
  "nbformat_minor": 5
}